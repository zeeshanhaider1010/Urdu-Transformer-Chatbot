{
  "nbformat": 4,
  "nbformat_minor": 0,
  "metadata": {
    "colab": {
      "provenance": [],
      "gpuType": "T4"
    },
    "kernelspec": {
      "name": "python3",
      "display_name": "Python 3"
    },
    "language_info": {
      "name": "python"
    },
    "accelerator": "GPU"
  },
  "cells": [
    {
      "cell_type": "code",
      "execution_count": 83,
      "metadata": {
        "colab": {
          "base_uri": "https://localhost:8080/"
        },
        "id": "fhekYKT-TXvs",
        "outputId": "e4cd448a-6b31-48e0-eea1-a66bf988cc5b"
      },
      "outputs": [
        {
          "output_type": "stream",
          "name": "stdout",
          "text": [
            "Device: cuda\n"
          ]
        }
      ],
      "source": [
        "# Cell 1 — Colab setup & installs\n",
        "\n",
        "# Install required packages\n",
        "!pip install -q torch tqdm sacrebleu nltk sentencepiece rouge-score\n",
        "\n",
        "# Imports\n",
        "import os, re, math, random, json, time\n",
        "from collections import Counter\n",
        "from typing import List, Tuple\n",
        "import pandas as pd\n",
        "import numpy as np\n",
        "from tqdm import tqdm\n",
        "\n",
        "import torch\n",
        "import torch.nn as nn\n",
        "import torch.nn.functional as F\n",
        "from torch.utils.data import Dataset, DataLoader\n",
        "\n",
        "import sacrebleu\n",
        "import nltk\n",
        "nltk.download('punkt', quiet=True)\n",
        "\n",
        "# Device\n",
        "DEVICE = torch.device(\"cuda\" if torch.cuda.is_available() else \"cpu\")\n",
        "print(\"Device:\", DEVICE)\n"
      ]
    },
    {
      "cell_type": "code",
      "source": [
        "# Cell 2 — data path config & folders\n",
        "# If you mounted Drive and want to use a Drive path, change DATA_PATH accordingly.\n",
        "DATA_PATH = \"/content/final_main_dataset.tsv\"   # change if needed\n",
        "MODEL_DIR = \"models\"\n",
        "os.makedirs(MODEL_DIR, exist_ok=True)\n",
        "\n",
        "# Quick check: ensure file exists\n",
        "if os.path.exists(DATA_PATH):\n",
        "    print(\"Found dataset:\", DATA_PATH)\n",
        "else:\n",
        "    print(\"Dataset not found at\", DATA_PATH, \"- upload it to the notebook environment or change DATA_PATH.\")\n"
      ],
      "metadata": {
        "colab": {
          "base_uri": "https://localhost:8080/"
        },
        "id": "RIvhzCgWYFa9",
        "outputId": "648b29e8-dd07-4121-fd96-32798d19ac4d"
      },
      "execution_count": 84,
      "outputs": [
        {
          "output_type": "stream",
          "name": "stdout",
          "text": [
            "Found dataset: /content/final_main_dataset.tsv\n"
          ]
        }
      ]
    },
    {
      "cell_type": "code",
      "source": [
        "# Cell 3 — load Common Voice TSV and create (input,response) pairs\n",
        "\n",
        "def load_urdu_tsv_dataset(path, pair_mode=\"consecutive\", max_pairs=None, verbose=True):\n",
        "    \"\"\"\n",
        "    Load Common Voice style TSV and return list of (input, response) pairs.\n",
        "    pair_mode:\n",
        "      - \"consecutive\": pair sentences [0]->[1], [2]->[3], ...\n",
        "      - \"sliding\": pair [i] -> [i+1] for all i\n",
        "      - \"random\": pair each sentence with a random sentence\n",
        "    max_pairs: limit number of pairs (useful for quick experiments)\n",
        "    \"\"\"\n",
        "    df = pd.read_csv(path, sep=\"\\t\", encoding=\"utf-8\")\n",
        "    if \"sentence\" not in df.columns:\n",
        "        raise ValueError(\"Expected a 'sentence' column in the TSV file.\")\n",
        "    sentences = df[\"sentence\"].dropna().astype(str).tolist()\n",
        "    pairs = []\n",
        "    if pair_mode == \"consecutive\":\n",
        "        for i in range(0, len(sentences) - 1, 2):\n",
        "            pairs.append((sentences[i], sentences[i+1]))\n",
        "    elif pair_mode == \"sliding\":\n",
        "        for i in range(len(sentences) - 1):\n",
        "            pairs.append((sentences[i], sentences[i+1]))\n",
        "    elif pair_mode == \"random\":\n",
        "        for i in range(len(sentences)):\n",
        "            pairs.append((sentences[i], random.choice(sentences)))\n",
        "    else:\n",
        "        raise ValueError(\"Unsupported pair_mode: \" + str(pair_mode))\n",
        "    if max_pairs:\n",
        "        pairs = pairs[:max_pairs]\n",
        "    if verbose:\n",
        "        print(f\"Loaded {len(pairs)} pairs (mode={pair_mode}) from {path}\")\n",
        "    return pairs\n",
        "\n",
        "# Quick preview rows (first 5)\n",
        "if os.path.exists(DATA_PATH):\n",
        "    try:\n",
        "        preview = pd.read_csv(DATA_PATH, sep=\"\\t\", encoding=\"utf-8\", nrows=5)\n",
        "        print(\"TSV columns:\", preview.columns.tolist())\n",
        "        display(preview.head(5))\n",
        "    except Exception as e:\n",
        "        print(\"Could not preview dataset:\", e)\n"
      ],
      "metadata": {
        "colab": {
          "base_uri": "https://localhost:8080/",
          "height": 469
        },
        "id": "PTPthPe-YPPb",
        "outputId": "f1494eec-6937-4692-9dbc-c2d10c3cb22b"
      },
      "execution_count": 85,
      "outputs": [
        {
          "output_type": "stream",
          "name": "stdout",
          "text": [
            "TSV columns: ['client_id', 'path', 'sentence', 'up_votes', 'down_votes', 'age', 'gender', 'accents', 'variant', 'locale', 'segment']\n"
          ]
        },
        {
          "output_type": "display_data",
          "data": {
            "text/plain": [
              "                                           client_id  \\\n",
              "0  e53f84d151d6cc6d45a57decde08a99efe47d7751a4ca6...   \n",
              "1  e53f84d151d6cc6d45a57decde08a99efe47d7751a4ca6...   \n",
              "2  e53f84d151d6cc6d45a57decde08a99efe47d7751a4ca6...   \n",
              "3  e53f84d151d6cc6d45a57decde08a99efe47d7751a4ca6...   \n",
              "4  e53f84d151d6cc6d45a57decde08a99efe47d7751a4ca6...   \n",
              "\n",
              "                           path  \\\n",
              "0  common_voice_ur_31771683.mp3   \n",
              "1  common_voice_ur_31771684.mp3   \n",
              "2  common_voice_ur_31771685.mp3   \n",
              "3  common_voice_ur_31771730.mp3   \n",
              "4  common_voice_ur_31771732.mp3   \n",
              "\n",
              "                                            sentence  up_votes  down_votes  \\\n",
              "0                 کبھی کبھار ہی خیالی پلاو بناتا ہوں         2           0   \n",
              "1                  اور پھر ممکن ہے کہ پاکستان بھی ہو         2           1   \n",
              "2                      یہ فیصلہ بھی گزشتہ دو سال میں         2           0   \n",
              "3                     ان کے بلے بازوں کے سامنے ہو گا         3           0   \n",
              "4  آبی جانور میں بطخ بگلا اور دُوسْرا آبی پرندہ ش...         3           0   \n",
              "\n",
              "        age gender  accents  variant locale  segment  \n",
              "0  twenties   male      NaN      NaN     ur      NaN  \n",
              "1  twenties   male      NaN      NaN     ur      NaN  \n",
              "2  twenties   male      NaN      NaN     ur      NaN  \n",
              "3  twenties   male      NaN      NaN     ur      NaN  \n",
              "4  twenties   male      NaN      NaN     ur      NaN  "
            ],
            "text/html": [
              "\n",
              "  <div id=\"df-e1e89298-0b37-4a4a-87ba-135220a9bc05\" class=\"colab-df-container\">\n",
              "    <div>\n",
              "<style scoped>\n",
              "    .dataframe tbody tr th:only-of-type {\n",
              "        vertical-align: middle;\n",
              "    }\n",
              "\n",
              "    .dataframe tbody tr th {\n",
              "        vertical-align: top;\n",
              "    }\n",
              "\n",
              "    .dataframe thead th {\n",
              "        text-align: right;\n",
              "    }\n",
              "</style>\n",
              "<table border=\"1\" class=\"dataframe\">\n",
              "  <thead>\n",
              "    <tr style=\"text-align: right;\">\n",
              "      <th></th>\n",
              "      <th>client_id</th>\n",
              "      <th>path</th>\n",
              "      <th>sentence</th>\n",
              "      <th>up_votes</th>\n",
              "      <th>down_votes</th>\n",
              "      <th>age</th>\n",
              "      <th>gender</th>\n",
              "      <th>accents</th>\n",
              "      <th>variant</th>\n",
              "      <th>locale</th>\n",
              "      <th>segment</th>\n",
              "    </tr>\n",
              "  </thead>\n",
              "  <tbody>\n",
              "    <tr>\n",
              "      <th>0</th>\n",
              "      <td>e53f84d151d6cc6d45a57decde08a99efe47d7751a4ca6...</td>\n",
              "      <td>common_voice_ur_31771683.mp3</td>\n",
              "      <td>کبھی کبھار ہی خیالی پلاو بناتا ہوں</td>\n",
              "      <td>2</td>\n",
              "      <td>0</td>\n",
              "      <td>twenties</td>\n",
              "      <td>male</td>\n",
              "      <td>NaN</td>\n",
              "      <td>NaN</td>\n",
              "      <td>ur</td>\n",
              "      <td>NaN</td>\n",
              "    </tr>\n",
              "    <tr>\n",
              "      <th>1</th>\n",
              "      <td>e53f84d151d6cc6d45a57decde08a99efe47d7751a4ca6...</td>\n",
              "      <td>common_voice_ur_31771684.mp3</td>\n",
              "      <td>اور پھر ممکن ہے کہ پاکستان بھی ہو</td>\n",
              "      <td>2</td>\n",
              "      <td>1</td>\n",
              "      <td>twenties</td>\n",
              "      <td>male</td>\n",
              "      <td>NaN</td>\n",
              "      <td>NaN</td>\n",
              "      <td>ur</td>\n",
              "      <td>NaN</td>\n",
              "    </tr>\n",
              "    <tr>\n",
              "      <th>2</th>\n",
              "      <td>e53f84d151d6cc6d45a57decde08a99efe47d7751a4ca6...</td>\n",
              "      <td>common_voice_ur_31771685.mp3</td>\n",
              "      <td>یہ فیصلہ بھی گزشتہ دو سال میں</td>\n",
              "      <td>2</td>\n",
              "      <td>0</td>\n",
              "      <td>twenties</td>\n",
              "      <td>male</td>\n",
              "      <td>NaN</td>\n",
              "      <td>NaN</td>\n",
              "      <td>ur</td>\n",
              "      <td>NaN</td>\n",
              "    </tr>\n",
              "    <tr>\n",
              "      <th>3</th>\n",
              "      <td>e53f84d151d6cc6d45a57decde08a99efe47d7751a4ca6...</td>\n",
              "      <td>common_voice_ur_31771730.mp3</td>\n",
              "      <td>ان کے بلے بازوں کے سامنے ہو گا</td>\n",
              "      <td>3</td>\n",
              "      <td>0</td>\n",
              "      <td>twenties</td>\n",
              "      <td>male</td>\n",
              "      <td>NaN</td>\n",
              "      <td>NaN</td>\n",
              "      <td>ur</td>\n",
              "      <td>NaN</td>\n",
              "    </tr>\n",
              "    <tr>\n",
              "      <th>4</th>\n",
              "      <td>e53f84d151d6cc6d45a57decde08a99efe47d7751a4ca6...</td>\n",
              "      <td>common_voice_ur_31771732.mp3</td>\n",
              "      <td>آبی جانور میں بطخ بگلا اور دُوسْرا آبی پرندہ ش...</td>\n",
              "      <td>3</td>\n",
              "      <td>0</td>\n",
              "      <td>twenties</td>\n",
              "      <td>male</td>\n",
              "      <td>NaN</td>\n",
              "      <td>NaN</td>\n",
              "      <td>ur</td>\n",
              "      <td>NaN</td>\n",
              "    </tr>\n",
              "  </tbody>\n",
              "</table>\n",
              "</div>\n",
              "    <div class=\"colab-df-buttons\">\n",
              "\n",
              "  <div class=\"colab-df-container\">\n",
              "    <button class=\"colab-df-convert\" onclick=\"convertToInteractive('df-e1e89298-0b37-4a4a-87ba-135220a9bc05')\"\n",
              "            title=\"Convert this dataframe to an interactive table.\"\n",
              "            style=\"display:none;\">\n",
              "\n",
              "  <svg xmlns=\"http://www.w3.org/2000/svg\" height=\"24px\" viewBox=\"0 -960 960 960\">\n",
              "    <path d=\"M120-120v-720h720v720H120Zm60-500h600v-160H180v160Zm220 220h160v-160H400v160Zm0 220h160v-160H400v160ZM180-400h160v-160H180v160Zm440 0h160v-160H620v160ZM180-180h160v-160H180v160Zm440 0h160v-160H620v160Z\"/>\n",
              "  </svg>\n",
              "    </button>\n",
              "\n",
              "  <style>\n",
              "    .colab-df-container {\n",
              "      display:flex;\n",
              "      gap: 12px;\n",
              "    }\n",
              "\n",
              "    .colab-df-convert {\n",
              "      background-color: #E8F0FE;\n",
              "      border: none;\n",
              "      border-radius: 50%;\n",
              "      cursor: pointer;\n",
              "      display: none;\n",
              "      fill: #1967D2;\n",
              "      height: 32px;\n",
              "      padding: 0 0 0 0;\n",
              "      width: 32px;\n",
              "    }\n",
              "\n",
              "    .colab-df-convert:hover {\n",
              "      background-color: #E2EBFA;\n",
              "      box-shadow: 0px 1px 2px rgba(60, 64, 67, 0.3), 0px 1px 3px 1px rgba(60, 64, 67, 0.15);\n",
              "      fill: #174EA6;\n",
              "    }\n",
              "\n",
              "    .colab-df-buttons div {\n",
              "      margin-bottom: 4px;\n",
              "    }\n",
              "\n",
              "    [theme=dark] .colab-df-convert {\n",
              "      background-color: #3B4455;\n",
              "      fill: #D2E3FC;\n",
              "    }\n",
              "\n",
              "    [theme=dark] .colab-df-convert:hover {\n",
              "      background-color: #434B5C;\n",
              "      box-shadow: 0px 1px 3px 1px rgba(0, 0, 0, 0.15);\n",
              "      filter: drop-shadow(0px 1px 2px rgba(0, 0, 0, 0.3));\n",
              "      fill: #FFFFFF;\n",
              "    }\n",
              "  </style>\n",
              "\n",
              "    <script>\n",
              "      const buttonEl =\n",
              "        document.querySelector('#df-e1e89298-0b37-4a4a-87ba-135220a9bc05 button.colab-df-convert');\n",
              "      buttonEl.style.display =\n",
              "        google.colab.kernel.accessAllowed ? 'block' : 'none';\n",
              "\n",
              "      async function convertToInteractive(key) {\n",
              "        const element = document.querySelector('#df-e1e89298-0b37-4a4a-87ba-135220a9bc05');\n",
              "        const dataTable =\n",
              "          await google.colab.kernel.invokeFunction('convertToInteractive',\n",
              "                                                    [key], {});\n",
              "        if (!dataTable) return;\n",
              "\n",
              "        const docLinkHtml = 'Like what you see? Visit the ' +\n",
              "          '<a target=\"_blank\" href=https://colab.research.google.com/notebooks/data_table.ipynb>data table notebook</a>'\n",
              "          + ' to learn more about interactive tables.';\n",
              "        element.innerHTML = '';\n",
              "        dataTable['output_type'] = 'display_data';\n",
              "        await google.colab.output.renderOutput(dataTable, element);\n",
              "        const docLink = document.createElement('div');\n",
              "        docLink.innerHTML = docLinkHtml;\n",
              "        element.appendChild(docLink);\n",
              "      }\n",
              "    </script>\n",
              "  </div>\n",
              "\n",
              "\n",
              "    <div id=\"df-9a4dc67f-4564-48ce-b6bb-4eed08d84246\">\n",
              "      <button class=\"colab-df-quickchart\" onclick=\"quickchart('df-9a4dc67f-4564-48ce-b6bb-4eed08d84246')\"\n",
              "                title=\"Suggest charts\"\n",
              "                style=\"display:none;\">\n",
              "\n",
              "<svg xmlns=\"http://www.w3.org/2000/svg\" height=\"24px\"viewBox=\"0 0 24 24\"\n",
              "     width=\"24px\">\n",
              "    <g>\n",
              "        <path d=\"M19 3H5c-1.1 0-2 .9-2 2v14c0 1.1.9 2 2 2h14c1.1 0 2-.9 2-2V5c0-1.1-.9-2-2-2zM9 17H7v-7h2v7zm4 0h-2V7h2v10zm4 0h-2v-4h2v4z\"/>\n",
              "    </g>\n",
              "</svg>\n",
              "      </button>\n",
              "\n",
              "<style>\n",
              "  .colab-df-quickchart {\n",
              "      --bg-color: #E8F0FE;\n",
              "      --fill-color: #1967D2;\n",
              "      --hover-bg-color: #E2EBFA;\n",
              "      --hover-fill-color: #174EA6;\n",
              "      --disabled-fill-color: #AAA;\n",
              "      --disabled-bg-color: #DDD;\n",
              "  }\n",
              "\n",
              "  [theme=dark] .colab-df-quickchart {\n",
              "      --bg-color: #3B4455;\n",
              "      --fill-color: #D2E3FC;\n",
              "      --hover-bg-color: #434B5C;\n",
              "      --hover-fill-color: #FFFFFF;\n",
              "      --disabled-bg-color: #3B4455;\n",
              "      --disabled-fill-color: #666;\n",
              "  }\n",
              "\n",
              "  .colab-df-quickchart {\n",
              "    background-color: var(--bg-color);\n",
              "    border: none;\n",
              "    border-radius: 50%;\n",
              "    cursor: pointer;\n",
              "    display: none;\n",
              "    fill: var(--fill-color);\n",
              "    height: 32px;\n",
              "    padding: 0;\n",
              "    width: 32px;\n",
              "  }\n",
              "\n",
              "  .colab-df-quickchart:hover {\n",
              "    background-color: var(--hover-bg-color);\n",
              "    box-shadow: 0 1px 2px rgba(60, 64, 67, 0.3), 0 1px 3px 1px rgba(60, 64, 67, 0.15);\n",
              "    fill: var(--button-hover-fill-color);\n",
              "  }\n",
              "\n",
              "  .colab-df-quickchart-complete:disabled,\n",
              "  .colab-df-quickchart-complete:disabled:hover {\n",
              "    background-color: var(--disabled-bg-color);\n",
              "    fill: var(--disabled-fill-color);\n",
              "    box-shadow: none;\n",
              "  }\n",
              "\n",
              "  .colab-df-spinner {\n",
              "    border: 2px solid var(--fill-color);\n",
              "    border-color: transparent;\n",
              "    border-bottom-color: var(--fill-color);\n",
              "    animation:\n",
              "      spin 1s steps(1) infinite;\n",
              "  }\n",
              "\n",
              "  @keyframes spin {\n",
              "    0% {\n",
              "      border-color: transparent;\n",
              "      border-bottom-color: var(--fill-color);\n",
              "      border-left-color: var(--fill-color);\n",
              "    }\n",
              "    20% {\n",
              "      border-color: transparent;\n",
              "      border-left-color: var(--fill-color);\n",
              "      border-top-color: var(--fill-color);\n",
              "    }\n",
              "    30% {\n",
              "      border-color: transparent;\n",
              "      border-left-color: var(--fill-color);\n",
              "      border-top-color: var(--fill-color);\n",
              "      border-right-color: var(--fill-color);\n",
              "    }\n",
              "    40% {\n",
              "      border-color: transparent;\n",
              "      border-right-color: var(--fill-color);\n",
              "      border-top-color: var(--fill-color);\n",
              "    }\n",
              "    60% {\n",
              "      border-color: transparent;\n",
              "      border-right-color: var(--fill-color);\n",
              "    }\n",
              "    80% {\n",
              "      border-color: transparent;\n",
              "      border-right-color: var(--fill-color);\n",
              "      border-bottom-color: var(--fill-color);\n",
              "    }\n",
              "    90% {\n",
              "      border-color: transparent;\n",
              "      border-bottom-color: var(--fill-color);\n",
              "    }\n",
              "  }\n",
              "</style>\n",
              "\n",
              "      <script>\n",
              "        async function quickchart(key) {\n",
              "          const quickchartButtonEl =\n",
              "            document.querySelector('#' + key + ' button');\n",
              "          quickchartButtonEl.disabled = true;  // To prevent multiple clicks.\n",
              "          quickchartButtonEl.classList.add('colab-df-spinner');\n",
              "          try {\n",
              "            const charts = await google.colab.kernel.invokeFunction(\n",
              "                'suggestCharts', [key], {});\n",
              "          } catch (error) {\n",
              "            console.error('Error during call to suggestCharts:', error);\n",
              "          }\n",
              "          quickchartButtonEl.classList.remove('colab-df-spinner');\n",
              "          quickchartButtonEl.classList.add('colab-df-quickchart-complete');\n",
              "        }\n",
              "        (() => {\n",
              "          let quickchartButtonEl =\n",
              "            document.querySelector('#df-9a4dc67f-4564-48ce-b6bb-4eed08d84246 button');\n",
              "          quickchartButtonEl.style.display =\n",
              "            google.colab.kernel.accessAllowed ? 'block' : 'none';\n",
              "        })();\n",
              "      </script>\n",
              "    </div>\n",
              "\n",
              "    </div>\n",
              "  </div>\n"
            ],
            "application/vnd.google.colaboratory.intrinsic+json": {
              "type": "dataframe",
              "summary": "{\n  \"name\": \"        print(\\\"Could not preview dataset:\\\", e)\",\n  \"rows\": 5,\n  \"fields\": [\n    {\n      \"column\": \"client_id\",\n      \"properties\": {\n        \"dtype\": \"category\",\n        \"num_unique_values\": 1,\n        \"samples\": [\n          \"e53f84d151d6cc6d45a57decde08a99efe47d7751a4ca60e58fb87ea68a35d53dcae445c65d5e73e0449a0b1cf2b4d09f32874877e8786664aa50f1f2ec2b932\"\n        ],\n        \"semantic_type\": \"\",\n        \"description\": \"\"\n      }\n    },\n    {\n      \"column\": \"path\",\n      \"properties\": {\n        \"dtype\": \"string\",\n        \"num_unique_values\": 5,\n        \"samples\": [\n          \"common_voice_ur_31771684.mp3\"\n        ],\n        \"semantic_type\": \"\",\n        \"description\": \"\"\n      }\n    },\n    {\n      \"column\": \"sentence\",\n      \"properties\": {\n        \"dtype\": \"string\",\n        \"num_unique_values\": 5,\n        \"samples\": [\n          \"\\u0627\\u0648\\u0631 \\u067e\\u06be\\u0631 \\u0645\\u0645\\u06a9\\u0646 \\u06c1\\u06d2 \\u06a9\\u06c1 \\u067e\\u0627\\u06a9\\u0633\\u062a\\u0627\\u0646 \\u0628\\u06be\\u06cc \\u06c1\\u0648\"\n        ],\n        \"semantic_type\": \"\",\n        \"description\": \"\"\n      }\n    },\n    {\n      \"column\": \"up_votes\",\n      \"properties\": {\n        \"dtype\": \"number\",\n        \"std\": 0,\n        \"min\": 2,\n        \"max\": 3,\n        \"num_unique_values\": 2,\n        \"samples\": [\n          3\n        ],\n        \"semantic_type\": \"\",\n        \"description\": \"\"\n      }\n    },\n    {\n      \"column\": \"down_votes\",\n      \"properties\": {\n        \"dtype\": \"number\",\n        \"std\": 0,\n        \"min\": 0,\n        \"max\": 1,\n        \"num_unique_values\": 2,\n        \"samples\": [\n          1\n        ],\n        \"semantic_type\": \"\",\n        \"description\": \"\"\n      }\n    },\n    {\n      \"column\": \"age\",\n      \"properties\": {\n        \"dtype\": \"category\",\n        \"num_unique_values\": 1,\n        \"samples\": [\n          \"twenties\"\n        ],\n        \"semantic_type\": \"\",\n        \"description\": \"\"\n      }\n    },\n    {\n      \"column\": \"gender\",\n      \"properties\": {\n        \"dtype\": \"category\",\n        \"num_unique_values\": 1,\n        \"samples\": [\n          \"male\"\n        ],\n        \"semantic_type\": \"\",\n        \"description\": \"\"\n      }\n    },\n    {\n      \"column\": \"accents\",\n      \"properties\": {\n        \"dtype\": \"number\",\n        \"std\": null,\n        \"min\": null,\n        \"max\": null,\n        \"num_unique_values\": 0,\n        \"samples\": [],\n        \"semantic_type\": \"\",\n        \"description\": \"\"\n      }\n    },\n    {\n      \"column\": \"variant\",\n      \"properties\": {\n        \"dtype\": \"number\",\n        \"std\": null,\n        \"min\": null,\n        \"max\": null,\n        \"num_unique_values\": 0,\n        \"samples\": [],\n        \"semantic_type\": \"\",\n        \"description\": \"\"\n      }\n    },\n    {\n      \"column\": \"locale\",\n      \"properties\": {\n        \"dtype\": \"category\",\n        \"num_unique_values\": 1,\n        \"samples\": [],\n        \"semantic_type\": \"\",\n        \"description\": \"\"\n      }\n    },\n    {\n      \"column\": \"segment\",\n      \"properties\": {\n        \"dtype\": \"number\",\n        \"std\": null,\n        \"min\": null,\n        \"max\": null,\n        \"num_unique_values\": 0,\n        \"samples\": [],\n        \"semantic_type\": \"\",\n        \"description\": \"\"\n      }\n    }\n  ]\n}"
            }
          },
          "metadata": {}
        }
      ]
    },
    {
      "cell_type": "code",
      "source": [
        "# Cell 4 — Urdu normalization + simple tokenizer\n",
        "RE_ARABIC_DIACRITICS = re.compile(r\"[\\u0610-\\u061A\\u064B-\\u065F\\u06D6-\\u06ED\\u08D4-\\u08E1]\")\n",
        "NORMALIZATION_MAP = {\n",
        "    '\\u0622': '\\u0627',  # آ -> ا\n",
        "    '\\u0623': '\\u0627',  # أ -> ا\n",
        "    '\\u0625': '\\u0627',  # إ -> ا\n",
        "    '\\u0649': '\\u06CC',  # ى -> ی\n",
        "    '\\u0629': '\\u0647',  # ة -> ه\n",
        "}\n",
        "URDU_PUNCT = r\"[\\.\\,\\!\\?\\:\\;\\-\\—\\(\\)\\\"\\'،؟]\"\n",
        "\n",
        "def normalize_urdu(text: str) -> str:\n",
        "    \"\"\"Normalize Urdu text: remove diacritics and unify common letter variants.\"\"\"\n",
        "    if not isinstance(text, str):\n",
        "        return \"\"\n",
        "    t = text.strip()\n",
        "    t = RE_ARABIC_DIACRITICS.sub(\"\", t)\n",
        "    t = \"\".join(NORMALIZATION_MAP.get(ch, ch) for ch in t)\n",
        "    t = re.sub(r\"\\s+\", \" \", t)\n",
        "    return t\n",
        "\n",
        "def simple_tokenize(text: str) -> List[str]:\n",
        "    \"\"\"A simple tokenizer that spaces punctuation then splits by whitespace.\"\"\"\n",
        "    if not isinstance(text, str):\n",
        "        return []\n",
        "    text = re.sub(URDU_PUNCT, lambda m: f\" {m.group(0)} \", text)\n",
        "    tokens = text.strip().split()\n",
        "    return tokens\n",
        "\n",
        "# Quick demo\n",
        "print(\"Normalized:\", normalize_urdu(\"آپ کیسے ہیں؟\"))\n",
        "print(\"Tokens  :\", simple_tokenize(\"میں ٹھیک ہوں، شکریہ!\"))\n"
      ],
      "metadata": {
        "colab": {
          "base_uri": "https://localhost:8080/"
        },
        "id": "7yUUiuwXYQ9k",
        "outputId": "325cc663-2406-4afd-e002-1a3796001f1d"
      },
      "execution_count": 86,
      "outputs": [
        {
          "output_type": "stream",
          "name": "stdout",
          "text": [
            "Normalized: اپ کیسے ہیں؟\n",
            "Tokens  : ['میں', 'ٹھیک', 'ہوں', '،', 'شکریہ', '!']\n"
          ]
        }
      ]
    },
    {
      "cell_type": "code",
      "source": [
        "# Cell 5 — vocabulary utilities\n",
        "PAD, SOS, EOS, UNK = \"<pad>\", \"<sos>\", \"<eos>\", \"<unk>\"\n",
        "\n",
        "class Vocab:\n",
        "    def __init__(self, min_freq=1, max_size=None):\n",
        "        self.min_freq = min_freq\n",
        "        self.max_size = max_size\n",
        "        self.freqs = Counter()\n",
        "        self.token2idx = {}\n",
        "        self.idx2token = []\n",
        "        self.built = False\n",
        "\n",
        "    def add_sentence(self, tokens: List[str]):\n",
        "        self.freqs.update(tokens)\n",
        "\n",
        "    def build(self):\n",
        "        specials = [PAD, SOS, EOS, UNK]\n",
        "        self.idx2token = list(specials)\n",
        "        self.token2idx = {t:i for i,t in enumerate(self.idx2token)}\n",
        "        items = [item for item in self.freqs.items() if item[1] >= self.min_freq]\n",
        "        items.sort(key=lambda x: -x[1])\n",
        "        if self.max_size:\n",
        "            items = items[:self.max_size - len(self.idx2token)]\n",
        "        for tok, _ in items:\n",
        "            if tok in self.token2idx:\n",
        "                continue\n",
        "            self.token2idx[tok] = len(self.idx2token)\n",
        "            self.idx2token.append(tok)\n",
        "        self.built = True\n",
        "\n",
        "    def encode(self, tokens: List[str]) -> List[int]:\n",
        "        if not self.built:\n",
        "            raise RuntimeError(\"Vocab not built.\")\n",
        "        return [self.token2idx.get(t, self.token2idx[UNK]) for t in tokens]\n",
        "\n",
        "    def decode(self, ids: List[int], remove_specials=True) -> List[str]:\n",
        "        toks = [self.idx2token[i] if i < len(self.idx2token) else UNK for i in ids]\n",
        "        if remove_specials:\n",
        "            toks = [t for t in toks if t not in {PAD, SOS, EOS}]\n",
        "        return toks\n",
        "\n",
        "    def __len__(self):\n",
        "        return len(self.idx2token)\n"
      ],
      "metadata": {
        "id": "Dv3fg-RjYSc7"
      },
      "execution_count": 87,
      "outputs": []
    },
    {
      "cell_type": "code",
      "source": [
        "# Cell 6 — prepare data, build vocabs, and return splits\n",
        "def prepare_data(pairs, min_freq=2, max_vocab=20000, max_len=64, split=(0.8,0.1,0.1), seed=42):\n",
        "    \"\"\"\n",
        "    pairs: list of (input, response) strings\n",
        "    Returns: train, val, test lists and src_vocab, tgt_vocab objects\n",
        "    \"\"\"\n",
        "    random.seed(seed)\n",
        "    random.shuffle(pairs)\n",
        "    n = len(pairs)\n",
        "    ntrain = int(split[0]*n)\n",
        "    nval = int(split[1]*n)\n",
        "    train = pairs[:ntrain]\n",
        "    val = pairs[ntrain:ntrain+nval]\n",
        "    test = pairs[ntrain+nval:]\n",
        "\n",
        "    src_vocab = Vocab(min_freq=min_freq, max_size=max_vocab)\n",
        "    tgt_vocab = Vocab(min_freq=min_freq, max_size=max_vocab)\n",
        "    for s,t in train:\n",
        "        src_vocab.add_sentence(simple_tokenize(normalize_urdu(s)))\n",
        "        tgt_vocab.add_sentence(simple_tokenize(normalize_urdu(t)))\n",
        "    # Make sure special tokens are kept\n",
        "    for v in (src_vocab, tgt_vocab):\n",
        "        for sp in (PAD, SOS, EOS, UNK):\n",
        "            v.freqs[sp] += 100000\n",
        "        v.build()\n",
        "    return train, val, test, src_vocab, tgt_vocab\n",
        "\n",
        "# Build pairs (use sliding or consecutive depending on how noisy you want)\n",
        "pairs = load_urdu_tsv_dataset(DATA_PATH, pair_mode=\"consecutive\", max_pairs=None, verbose=True)\n",
        "\n",
        "train_p, val_p, test_p, src_vocab, tgt_vocab = prepare_data(pairs, min_freq=2, max_vocab=20000, max_len=64)\n",
        "print(\"Train/Val/Test sizes:\", len(train_p), len(val_p), len(test_p))\n",
        "print(\"Src vocab size:\", len(src_vocab), \"Tgt vocab size:\", len(tgt_vocab))\n"
      ],
      "metadata": {
        "colab": {
          "base_uri": "https://localhost:8080/"
        },
        "id": "vpzeZSjEYT6m",
        "outputId": "bb9357b7-d25d-4b11-ec5f-3c3aba9e42e4"
      },
      "execution_count": 88,
      "outputs": [
        {
          "output_type": "stream",
          "name": "stdout",
          "text": [
            "Loaded 10000 pairs (mode=consecutive) from /content/final_main_dataset.tsv\n",
            "Train/Val/Test sizes: 8000 1000 1000\n",
            "Src vocab size: 4848 Tgt vocab size: 4721\n"
          ]
        }
      ]
    },
    {
      "cell_type": "code",
      "source": [
        "# Cell 7 — Dataset class, collate_fn and dataloaders\n",
        "class UrduChatDataset(Dataset):\n",
        "    def __init__(self, pairs, src_vocab, tgt_vocab, max_len=64):\n",
        "        self.pairs = pairs\n",
        "        self.src_vocab = src_vocab\n",
        "        self.tgt_vocab = tgt_vocab\n",
        "        self.max_len = max_len\n",
        "\n",
        "    def __len__(self):\n",
        "        return len(self.pairs)\n",
        "\n",
        "    def __getitem__(self, idx):\n",
        "        src, tgt = self.pairs[idx]\n",
        "        src_toks = simple_tokenize(normalize_urdu(src))[: self.max_len - 2]\n",
        "        tgt_toks = simple_tokenize(normalize_urdu(tgt))[: self.max_len - 2]\n",
        "        src_ids = [self.src_vocab.token2idx[SOS]] + self.src_vocab.encode(src_toks) + [self.src_vocab.token2idx[EOS]]\n",
        "        tgt_ids = [self.tgt_vocab.token2idx[SOS]] + self.tgt_vocab.encode(tgt_toks) + [self.tgt_vocab.token2idx[EOS]]\n",
        "        return torch.tensor(src_ids, dtype=torch.long), torch.tensor(tgt_ids, dtype=torch.long)\n",
        "\n",
        "def collate_fn(batch):\n",
        "    src_batch, tgt_batch = zip(*batch)\n",
        "    max_src = max(len(s) for s in src_batch)\n",
        "    max_tgt = max(len(t) for t in tgt_batch)\n",
        "    src_padded = torch.full((len(batch), max_src), fill_value=0, dtype=torch.long)\n",
        "    tgt_padded = torch.full((len(batch), max_tgt), fill_value=0, dtype=torch.long)\n",
        "    for i, s in enumerate(src_batch):\n",
        "        src_padded[i, :len(s)] = s\n",
        "    for i, t in enumerate(tgt_batch):\n",
        "        tgt_padded[i, :len(t)] = t\n",
        "    return src_padded.to(DEVICE), tgt_padded.to(DEVICE)\n",
        "\n",
        "# Dataloaders\n",
        "BATCH_SIZE = 32\n",
        "train_ds = UrduChatDataset(train_p, src_vocab, tgt_vocab, max_len=64)\n",
        "val_ds = UrduChatDataset(val_p, src_vocab, tgt_vocab, max_len=64)\n",
        "test_ds = UrduChatDataset(test_p, src_vocab, tgt_vocab, max_len=64)\n",
        "\n",
        "train_loader = DataLoader(train_ds, batch_size=BATCH_SIZE, shuffle=True, collate_fn=collate_fn)\n",
        "val_loader = DataLoader(val_ds, batch_size=BATCH_SIZE, shuffle=False, collate_fn=collate_fn)\n",
        "test_loader = DataLoader(test_ds, batch_size=BATCH_SIZE, shuffle=False, collate_fn=collate_fn)\n",
        "\n",
        "# Show batch example shapes\n",
        "b_src, b_tgt = next(iter(train_loader))\n",
        "print(\"Example batch shapes -> src:\", b_src.shape, \", tgt:\", b_tgt.shape)\n"
      ],
      "metadata": {
        "colab": {
          "base_uri": "https://localhost:8080/"
        },
        "id": "loSgI1tdYVaL",
        "outputId": "a01469cc-8bf9-4425-fd2a-28a122937e83"
      },
      "execution_count": 89,
      "outputs": [
        {
          "output_type": "stream",
          "name": "stdout",
          "text": [
            "Example batch shapes -> src: torch.Size([32, 18]) , tgt: torch.Size([32, 23])\n"
          ]
        }
      ]
    },
    {
      "cell_type": "code",
      "source": [
        "# Cell 8 — Transformer building blocks\n",
        "\n",
        "class PositionalEncoding(nn.Module):\n",
        "    def __init__(self, d_model, max_len=5000):\n",
        "        super().__init__()\n",
        "        pe = torch.zeros(max_len, d_model)\n",
        "        position = torch.arange(0, max_len, dtype=torch.float).unsqueeze(1)\n",
        "        div_term = torch.exp(torch.arange(0, d_model, 2).float() *\n",
        "                             (-math.log(10000.0) / d_model))\n",
        "        pe[:, 0::2] = torch.sin(position * div_term)\n",
        "        pe[:, 1::2] = torch.cos(position * div_term)\n",
        "        self.register_buffer('pe', pe.unsqueeze(0))\n",
        "    def forward(self, x):\n",
        "        return x + self.pe[:, :x.size(1)]\n",
        "\n",
        "class ScaledDotProductAttention(nn.Module):\n",
        "    def __init__(self, dropout=0.1):\n",
        "        super().__init__()\n",
        "        self.dropout = nn.Dropout(dropout)\n",
        "        self.softmax = nn.Softmax(dim=-1)\n",
        "    def forward(self, q, k, v, mask=None):\n",
        "        d_k = q.size(-1)\n",
        "        scores = torch.matmul(q, k.transpose(-2, -1)) / math.sqrt(d_k)\n",
        "        if mask is not None:\n",
        "            scores = scores.masked_fill(mask == 0, -1e9)\n",
        "        attn = self.softmax(scores)\n",
        "        attn = self.dropout(attn)\n",
        "        return torch.matmul(attn, v), attn\n",
        "\n",
        "class MultiHeadAttention(nn.Module):\n",
        "    def __init__(self, d_model, num_heads, dropout=0.1):\n",
        "        super().__init__()\n",
        "        assert d_model % num_heads == 0\n",
        "        self.num_heads = num_heads\n",
        "        self.d_k = d_model // num_heads\n",
        "        self.linear_q = nn.Linear(d_model, d_model)\n",
        "        self.linear_k = nn.Linear(d_model, d_model)\n",
        "        self.linear_v = nn.Linear(d_model, d_model)\n",
        "        self.final_linear = nn.Linear(d_model, d_model)\n",
        "        self.dropout = nn.Dropout(dropout)\n",
        "        self.layer_norm = nn.LayerNorm(d_model)\n",
        "        self.attention = ScaledDotProductAttention(dropout)\n",
        "    def forward(self, query, key, value, mask=None):\n",
        "        residual = query\n",
        "        batch = query.size(0)\n",
        "        def transform(x, layer):\n",
        "            x = layer(x)\n",
        "            return x.view(batch, -1, self.num_heads, self.d_k).transpose(1, 2)\n",
        "        q, k, v = transform(query, self.linear_q), transform(key, self.linear_k), transform(value, self.linear_v)\n",
        "        x, attn = self.attention(q, k, v, mask)\n",
        "        x = x.transpose(1, 2).contiguous().view(batch, -1, self.num_heads * self.d_k)\n",
        "        x = self.dropout(self.final_linear(x))\n",
        "        return self.layer_norm(x + residual), attn\n",
        "\n",
        "class FeedForward(nn.Module):\n",
        "    def __init__(self, d_model, d_ff, dropout=0.1):\n",
        "        super().__init__()\n",
        "        self.linear1 = nn.Linear(d_model, d_ff)\n",
        "        self.linear2 = nn.Linear(d_ff, d_model)\n",
        "        self.dropout = nn.Dropout(dropout)\n",
        "        self.layer_norm = nn.LayerNorm(d_model)\n",
        "    def forward(self, x):\n",
        "        residual = x\n",
        "        x = F.relu(self.linear1(x))\n",
        "        x = self.dropout(self.linear2(x))\n",
        "        return self.layer_norm(x + residual)\n",
        "\n",
        "class EncoderLayer(nn.Module):\n",
        "    def __init__(self, d_model, heads, d_ff, dropout=0.1):\n",
        "        super().__init__()\n",
        "        self.self_attn = MultiHeadAttention(d_model, heads, dropout)\n",
        "        self.ff = FeedForward(d_model, d_ff, dropout)\n",
        "    def forward(self, x, mask=None):\n",
        "        x, attn = self.self_attn(x, x, x, mask)\n",
        "        x = self.ff(x)\n",
        "        return x, attn\n",
        "\n",
        "class DecoderLayer(nn.Module):\n",
        "    def __init__(self, d_model, heads, d_ff, dropout=0.1):\n",
        "        super().__init__()\n",
        "        self.self_attn = MultiHeadAttention(d_model, heads, dropout)\n",
        "        self.encdec_attn = MultiHeadAttention(d_model, heads, dropout)\n",
        "        self.ff = FeedForward(d_model, d_ff, dropout)\n",
        "    def forward(self, x, memory, tgt_mask=None, memory_mask=None):\n",
        "        x, self_attn = self.self_attn(x, x, x, tgt_mask)\n",
        "        x, encdec_attn = self.encdec_attn(x, memory, memory, memory_mask)\n",
        "        x = self.ff(x)\n",
        "        return x, self_attn, encdec_attn\n",
        "\n",
        "class Encoder(nn.Module):\n",
        "    def __init__(self, vocab_size, d_model, N, heads, d_ff, dropout):\n",
        "        super().__init__()\n",
        "        self.embed = nn.Embedding(vocab_size, d_model)\n",
        "        self.pos = PositionalEncoding(d_model)\n",
        "        self.layers = nn.ModuleList([EncoderLayer(d_model, heads, d_ff, dropout) for _ in range(N)])\n",
        "    def forward(self, src, mask=None):\n",
        "        x = self.embed(src) * math.sqrt(self.embed.embedding_dim)\n",
        "        x = self.pos(x)\n",
        "        attns = []\n",
        "        for l in self.layers:\n",
        "            x, attn = l(x, mask)\n",
        "            attns.append(attn)\n",
        "        return x, attns\n",
        "\n",
        "class Decoder(nn.Module):\n",
        "    def __init__(self, vocab_size, d_model, N, heads, d_ff, dropout):\n",
        "        super().__init__()\n",
        "        self.embed = nn.Embedding(vocab_size, d_model)\n",
        "        self.pos = PositionalEncoding(d_model)\n",
        "        self.layers = nn.ModuleList([DecoderLayer(d_model, heads, d_ff, dropout) for _ in range(N)])\n",
        "    def forward(self, tgt, memory, tgt_mask=None, memory_mask=None):\n",
        "        x = self.embed(tgt) * math.sqrt(self.embed.embedding_dim)\n",
        "        x = self.pos(x)\n",
        "        attn_maps = []\n",
        "        for l in self.layers:\n",
        "            x, self_attn, encdec_attn = l(x, memory, tgt_mask, memory_mask)\n",
        "            attn_maps.append(encdec_attn)\n",
        "        return x, attn_maps\n",
        "\n",
        "class TransformerModel(nn.Module):\n",
        "    def __init__(self, src_vocab_size, tgt_vocab_size, d_model=256, N=2, heads=2, d_ff=512, dropout=0.1):\n",
        "        super().__init__()\n",
        "        self.encoder = Encoder(src_vocab_size, d_model, N, heads, d_ff, dropout)\n",
        "        self.decoder = Decoder(tgt_vocab_size, d_model, N, heads, d_ff, dropout)\n",
        "        self.out = nn.Linear(d_model, tgt_vocab_size)\n",
        "    def make_src_mask(self, src):\n",
        "        return (src != 0).unsqueeze(1).unsqueeze(2)\n",
        "    def make_tgt_mask(self, tgt):\n",
        "        tgt_len = tgt.size(1)\n",
        "        pad_mask = (tgt != 0).unsqueeze(1).unsqueeze(2)\n",
        "        subsequent = torch.triu(torch.ones((tgt_len, tgt_len), device=tgt.device), diagonal=1).bool()\n",
        "        return pad_mask & ~subsequent.unsqueeze(0).unsqueeze(0)\n",
        "    def forward(self, src, tgt):\n",
        "        src_mask, tgt_mask = self.make_src_mask(src), self.make_tgt_mask(tgt)\n",
        "        memory, _ = self.encoder(src, src_mask)\n",
        "        dec_out, _ = self.decoder(tgt, memory, tgt_mask, src_mask)\n",
        "        return self.out(dec_out)\n"
      ],
      "metadata": {
        "id": "21oGq-LPYW2I"
      },
      "execution_count": 90,
      "outputs": []
    },
    {
      "cell_type": "code",
      "source": [
        "# Cell 9 — training utils\n",
        "\n",
        "PAD_INDEX = 0\n",
        "criterion = nn.CrossEntropyLoss(ignore_index=PAD_INDEX)\n",
        "\n",
        "def save_checkpoint(model, optimizer, path):\n",
        "    torch.save({'model_state': model.state_dict(),\n",
        "                'optimizer_state': optimizer.state_dict()}, path)\n",
        "\n",
        "def train_epoch(model, loader, optimizer, clip=1.0):\n",
        "    model.train()\n",
        "    total = 0\n",
        "    for src, tgt in tqdm(loader):\n",
        "        optimizer.zero_grad()\n",
        "        out = model(src, tgt[:, :-1])\n",
        "        loss = criterion(out.view(-1, out.size(-1)), tgt[:, 1:].contiguous().view(-1))\n",
        "        loss.backward()\n",
        "        torch.nn.utils.clip_grad_norm_(model.parameters(), clip)\n",
        "        optimizer.step()\n",
        "        total += loss.item()\n",
        "    return total / len(loader)\n",
        "\n",
        "def eval_loss(model, loader):\n",
        "    model.eval()\n",
        "    total = 0\n",
        "    with torch.no_grad():\n",
        "        for src, tgt in loader:\n",
        "            out = model(src, tgt[:, :-1])\n",
        "            loss = criterion(out.view(-1, out.size(-1)), tgt[:, 1:].contiguous().view(-1))\n",
        "            total += loss.item()\n",
        "    return total / len(loader)\n"
      ],
      "metadata": {
        "id": "j1YwlzPmYYtt"
      },
      "execution_count": 91,
      "outputs": []
    },
    {
      "cell_type": "code",
      "source": [
        "# Cell 10 — train model\n",
        "d_model, n_layers, n_heads, d_ff, dropout = 256, 2, 2, 512, 0.1\n",
        "LR, EPOCHS = 3e-4, 50\n",
        "\n",
        "model = TransformerModel(len(src_vocab), len(tgt_vocab), d_model, n_layers, n_heads, d_ff, dropout).to(DEVICE)\n",
        "optimizer = torch.optim.Adam(model.parameters(), lr=LR)\n",
        "\n",
        "best_val = float('inf')\n",
        "for ep in range(1, EPOCHS + 1):\n",
        "    tr = train_epoch(model, train_loader, optimizer)\n",
        "    vl = eval_loss(model, val_loader)\n",
        "    print(f\"Epoch {ep:02d}: Train {tr:.4f} | Val {vl:.4f}\")\n",
        "    if vl < best_val:\n",
        "        best_val = vl\n",
        "        save_checkpoint(model, optimizer, os.path.join(MODEL_DIR, \"best_checkpoint.pt\"))\n",
        "        print(\"✔ Saved best checkpoint\")\n"
      ],
      "metadata": {
        "colab": {
          "base_uri": "https://localhost:8080/"
        },
        "id": "t0PcX-cjYZ_i",
        "outputId": "068dc52d-08d5-4b26-ec9e-4717b4a9d63a"
      },
      "execution_count": 92,
      "outputs": [
        {
          "output_type": "stream",
          "name": "stderr",
          "text": [
            "100%|██████████| 250/250 [00:14<00:00, 17.29it/s]\n"
          ]
        },
        {
          "output_type": "stream",
          "name": "stdout",
          "text": [
            "Epoch 01: Train 6.2362 | Val 5.5559\n",
            "✔ Saved best checkpoint\n"
          ]
        },
        {
          "output_type": "stream",
          "name": "stderr",
          "text": [
            "100%|██████████| 250/250 [00:08<00:00, 30.54it/s]\n"
          ]
        },
        {
          "output_type": "stream",
          "name": "stdout",
          "text": [
            "Epoch 02: Train 5.5260 | Val 5.2739\n",
            "✔ Saved best checkpoint\n"
          ]
        },
        {
          "output_type": "stream",
          "name": "stderr",
          "text": [
            "100%|██████████| 250/250 [00:04<00:00, 50.23it/s]\n"
          ]
        },
        {
          "output_type": "stream",
          "name": "stdout",
          "text": [
            "Epoch 03: Train 5.0721 | Val 5.0417\n",
            "✔ Saved best checkpoint\n"
          ]
        },
        {
          "output_type": "stream",
          "name": "stderr",
          "text": [
            "100%|██████████| 250/250 [00:05<00:00, 44.49it/s]\n"
          ]
        },
        {
          "output_type": "stream",
          "name": "stdout",
          "text": [
            "Epoch 04: Train 4.6562 | Val 4.8887\n",
            "✔ Saved best checkpoint\n"
          ]
        },
        {
          "output_type": "stream",
          "name": "stderr",
          "text": [
            "100%|██████████| 250/250 [00:04<00:00, 50.15it/s]\n"
          ]
        },
        {
          "output_type": "stream",
          "name": "stdout",
          "text": [
            "Epoch 05: Train 4.2786 | Val 4.7481\n",
            "✔ Saved best checkpoint\n"
          ]
        },
        {
          "output_type": "stream",
          "name": "stderr",
          "text": [
            "100%|██████████| 250/250 [00:05<00:00, 47.72it/s]\n"
          ]
        },
        {
          "output_type": "stream",
          "name": "stdout",
          "text": [
            "Epoch 06: Train 3.9219 | Val 4.7157\n",
            "✔ Saved best checkpoint\n"
          ]
        },
        {
          "output_type": "stream",
          "name": "stderr",
          "text": [
            "100%|██████████| 250/250 [00:05<00:00, 48.38it/s]\n"
          ]
        },
        {
          "output_type": "stream",
          "name": "stdout",
          "text": [
            "Epoch 07: Train 3.5778 | Val 4.6400\n",
            "✔ Saved best checkpoint\n"
          ]
        },
        {
          "output_type": "stream",
          "name": "stderr",
          "text": [
            "100%|██████████| 250/250 [00:05<00:00, 49.53it/s]\n"
          ]
        },
        {
          "output_type": "stream",
          "name": "stdout",
          "text": [
            "Epoch 08: Train 3.2757 | Val 4.6305\n",
            "✔ Saved best checkpoint\n"
          ]
        },
        {
          "output_type": "stream",
          "name": "stderr",
          "text": [
            "100%|██████████| 250/250 [00:05<00:00, 45.55it/s]\n"
          ]
        },
        {
          "output_type": "stream",
          "name": "stdout",
          "text": [
            "Epoch 09: Train 2.9742 | Val 4.6651\n"
          ]
        },
        {
          "output_type": "stream",
          "name": "stderr",
          "text": [
            "100%|██████████| 250/250 [00:04<00:00, 50.42it/s]\n"
          ]
        },
        {
          "output_type": "stream",
          "name": "stdout",
          "text": [
            "Epoch 10: Train 2.6830 | Val 4.6864\n"
          ]
        },
        {
          "output_type": "stream",
          "name": "stderr",
          "text": [
            "100%|██████████| 250/250 [00:07<00:00, 35.48it/s]\n"
          ]
        },
        {
          "output_type": "stream",
          "name": "stdout",
          "text": [
            "Epoch 11: Train 2.4314 | Val 4.6965\n"
          ]
        },
        {
          "output_type": "stream",
          "name": "stderr",
          "text": [
            "100%|██████████| 250/250 [00:04<00:00, 50.17it/s]\n"
          ]
        },
        {
          "output_type": "stream",
          "name": "stdout",
          "text": [
            "Epoch 12: Train 2.1768 | Val 4.7332\n"
          ]
        },
        {
          "output_type": "stream",
          "name": "stderr",
          "text": [
            "100%|██████████| 250/250 [00:05<00:00, 44.80it/s]\n"
          ]
        },
        {
          "output_type": "stream",
          "name": "stdout",
          "text": [
            "Epoch 13: Train 1.9598 | Val 4.7554\n"
          ]
        },
        {
          "output_type": "stream",
          "name": "stderr",
          "text": [
            "100%|██████████| 250/250 [00:04<00:00, 50.15it/s]\n"
          ]
        },
        {
          "output_type": "stream",
          "name": "stdout",
          "text": [
            "Epoch 14: Train 1.7503 | Val 4.8161\n"
          ]
        },
        {
          "output_type": "stream",
          "name": "stderr",
          "text": [
            "100%|██████████| 250/250 [00:05<00:00, 44.75it/s]\n"
          ]
        },
        {
          "output_type": "stream",
          "name": "stdout",
          "text": [
            "Epoch 15: Train 1.5779 | Val 4.8983\n"
          ]
        },
        {
          "output_type": "stream",
          "name": "stderr",
          "text": [
            "100%|██████████| 250/250 [00:05<00:00, 49.95it/s]\n"
          ]
        },
        {
          "output_type": "stream",
          "name": "stdout",
          "text": [
            "Epoch 16: Train 1.4082 | Val 4.9499\n"
          ]
        },
        {
          "output_type": "stream",
          "name": "stderr",
          "text": [
            "100%|██████████| 250/250 [00:05<00:00, 44.97it/s]\n"
          ]
        },
        {
          "output_type": "stream",
          "name": "stdout",
          "text": [
            "Epoch 17: Train 1.2480 | Val 5.0878\n"
          ]
        },
        {
          "output_type": "stream",
          "name": "stderr",
          "text": [
            "100%|██████████| 250/250 [00:04<00:00, 50.62it/s]\n"
          ]
        },
        {
          "output_type": "stream",
          "name": "stdout",
          "text": [
            "Epoch 18: Train 1.1247 | Val 5.1306\n"
          ]
        },
        {
          "output_type": "stream",
          "name": "stderr",
          "text": [
            "100%|██████████| 250/250 [00:05<00:00, 46.52it/s]\n"
          ]
        },
        {
          "output_type": "stream",
          "name": "stdout",
          "text": [
            "Epoch 19: Train 1.0051 | Val 5.1949\n"
          ]
        },
        {
          "output_type": "stream",
          "name": "stderr",
          "text": [
            "100%|██████████| 250/250 [00:05<00:00, 48.16it/s]\n"
          ]
        },
        {
          "output_type": "stream",
          "name": "stdout",
          "text": [
            "Epoch 20: Train 0.9056 | Val 5.2956\n"
          ]
        },
        {
          "output_type": "stream",
          "name": "stderr",
          "text": [
            "100%|██████████| 250/250 [00:05<00:00, 48.56it/s]\n"
          ]
        },
        {
          "output_type": "stream",
          "name": "stdout",
          "text": [
            "Epoch 21: Train 0.8158 | Val 5.3907\n"
          ]
        },
        {
          "output_type": "stream",
          "name": "stderr",
          "text": [
            "100%|██████████| 250/250 [00:05<00:00, 45.47it/s]\n"
          ]
        },
        {
          "output_type": "stream",
          "name": "stdout",
          "text": [
            "Epoch 22: Train 0.7576 | Val 5.5102\n"
          ]
        },
        {
          "output_type": "stream",
          "name": "stderr",
          "text": [
            "100%|██████████| 250/250 [00:04<00:00, 50.81it/s]\n"
          ]
        },
        {
          "output_type": "stream",
          "name": "stdout",
          "text": [
            "Epoch 23: Train 0.6975 | Val 5.5406\n"
          ]
        },
        {
          "output_type": "stream",
          "name": "stderr",
          "text": [
            "100%|██████████| 250/250 [00:05<00:00, 44.78it/s]\n"
          ]
        },
        {
          "output_type": "stream",
          "name": "stdout",
          "text": [
            "Epoch 24: Train 0.6464 | Val 5.6288\n"
          ]
        },
        {
          "output_type": "stream",
          "name": "stderr",
          "text": [
            "100%|██████████| 250/250 [00:04<00:00, 50.52it/s]\n"
          ]
        },
        {
          "output_type": "stream",
          "name": "stdout",
          "text": [
            "Epoch 25: Train 0.6029 | Val 5.7144\n"
          ]
        },
        {
          "output_type": "stream",
          "name": "stderr",
          "text": [
            "100%|██████████| 250/250 [00:05<00:00, 44.81it/s]\n"
          ]
        },
        {
          "output_type": "stream",
          "name": "stdout",
          "text": [
            "Epoch 26: Train 0.5703 | Val 5.8053\n"
          ]
        },
        {
          "output_type": "stream",
          "name": "stderr",
          "text": [
            "100%|██████████| 250/250 [00:04<00:00, 50.25it/s]\n"
          ]
        },
        {
          "output_type": "stream",
          "name": "stdout",
          "text": [
            "Epoch 27: Train 0.5401 | Val 5.8817\n"
          ]
        },
        {
          "output_type": "stream",
          "name": "stderr",
          "text": [
            "100%|██████████| 250/250 [00:05<00:00, 45.02it/s]\n"
          ]
        },
        {
          "output_type": "stream",
          "name": "stdout",
          "text": [
            "Epoch 28: Train 0.5133 | Val 5.9489\n"
          ]
        },
        {
          "output_type": "stream",
          "name": "stderr",
          "text": [
            "100%|██████████| 250/250 [00:04<00:00, 50.98it/s]\n"
          ]
        },
        {
          "output_type": "stream",
          "name": "stdout",
          "text": [
            "Epoch 29: Train 0.4919 | Val 5.9807\n"
          ]
        },
        {
          "output_type": "stream",
          "name": "stderr",
          "text": [
            "100%|██████████| 250/250 [00:05<00:00, 48.17it/s]\n"
          ]
        },
        {
          "output_type": "stream",
          "name": "stdout",
          "text": [
            "Epoch 30: Train 0.4784 | Val 6.0627\n"
          ]
        },
        {
          "output_type": "stream",
          "name": "stderr",
          "text": [
            "100%|██████████| 250/250 [00:05<00:00, 47.70it/s]\n"
          ]
        },
        {
          "output_type": "stream",
          "name": "stdout",
          "text": [
            "Epoch 31: Train 0.4538 | Val 6.1327\n"
          ]
        },
        {
          "output_type": "stream",
          "name": "stderr",
          "text": [
            "100%|██████████| 250/250 [00:04<00:00, 50.30it/s]\n"
          ]
        },
        {
          "output_type": "stream",
          "name": "stdout",
          "text": [
            "Epoch 32: Train 0.4370 | Val 6.1450\n"
          ]
        },
        {
          "output_type": "stream",
          "name": "stderr",
          "text": [
            "100%|██████████| 250/250 [00:05<00:00, 45.16it/s]\n"
          ]
        },
        {
          "output_type": "stream",
          "name": "stdout",
          "text": [
            "Epoch 33: Train 0.4242 | Val 6.2636\n"
          ]
        },
        {
          "output_type": "stream",
          "name": "stderr",
          "text": [
            "100%|██████████| 250/250 [00:04<00:00, 50.40it/s]\n"
          ]
        },
        {
          "output_type": "stream",
          "name": "stdout",
          "text": [
            "Epoch 34: Train 0.4116 | Val 6.2921\n"
          ]
        },
        {
          "output_type": "stream",
          "name": "stderr",
          "text": [
            "100%|██████████| 250/250 [00:05<00:00, 45.37it/s]\n"
          ]
        },
        {
          "output_type": "stream",
          "name": "stdout",
          "text": [
            "Epoch 35: Train 0.3993 | Val 6.2994\n"
          ]
        },
        {
          "output_type": "stream",
          "name": "stderr",
          "text": [
            "100%|██████████| 250/250 [00:04<00:00, 50.55it/s]\n"
          ]
        },
        {
          "output_type": "stream",
          "name": "stdout",
          "text": [
            "Epoch 36: Train 0.4001 | Val 6.3434\n"
          ]
        },
        {
          "output_type": "stream",
          "name": "stderr",
          "text": [
            "100%|██████████| 250/250 [00:05<00:00, 44.79it/s]\n"
          ]
        },
        {
          "output_type": "stream",
          "name": "stdout",
          "text": [
            "Epoch 37: Train 0.3886 | Val 6.3134\n"
          ]
        },
        {
          "output_type": "stream",
          "name": "stderr",
          "text": [
            "100%|██████████| 250/250 [00:04<00:00, 50.49it/s]\n"
          ]
        },
        {
          "output_type": "stream",
          "name": "stdout",
          "text": [
            "Epoch 38: Train 0.3762 | Val 6.3644\n"
          ]
        },
        {
          "output_type": "stream",
          "name": "stderr",
          "text": [
            "100%|██████████| 250/250 [00:05<00:00, 45.25it/s]\n"
          ]
        },
        {
          "output_type": "stream",
          "name": "stdout",
          "text": [
            "Epoch 39: Train 0.3715 | Val 6.3855\n"
          ]
        },
        {
          "output_type": "stream",
          "name": "stderr",
          "text": [
            "100%|██████████| 250/250 [00:04<00:00, 50.58it/s]\n"
          ]
        },
        {
          "output_type": "stream",
          "name": "stdout",
          "text": [
            "Epoch 40: Train 0.3616 | Val 6.4279\n"
          ]
        },
        {
          "output_type": "stream",
          "name": "stderr",
          "text": [
            "100%|██████████| 250/250 [00:05<00:00, 49.05it/s]\n"
          ]
        },
        {
          "output_type": "stream",
          "name": "stdout",
          "text": [
            "Epoch 41: Train 0.3506 | Val 6.4443\n"
          ]
        },
        {
          "output_type": "stream",
          "name": "stderr",
          "text": [
            "100%|██████████| 250/250 [00:05<00:00, 46.58it/s]\n"
          ]
        },
        {
          "output_type": "stream",
          "name": "stdout",
          "text": [
            "Epoch 42: Train 0.3467 | Val 6.5022\n"
          ]
        },
        {
          "output_type": "stream",
          "name": "stderr",
          "text": [
            "100%|██████████| 250/250 [00:04<00:00, 50.31it/s]\n"
          ]
        },
        {
          "output_type": "stream",
          "name": "stdout",
          "text": [
            "Epoch 43: Train 0.3468 | Val 6.5056\n"
          ]
        },
        {
          "output_type": "stream",
          "name": "stderr",
          "text": [
            "100%|██████████| 250/250 [00:05<00:00, 44.80it/s]\n"
          ]
        },
        {
          "output_type": "stream",
          "name": "stdout",
          "text": [
            "Epoch 44: Train 0.3400 | Val 6.5411\n"
          ]
        },
        {
          "output_type": "stream",
          "name": "stderr",
          "text": [
            "100%|██████████| 250/250 [00:04<00:00, 50.48it/s]\n"
          ]
        },
        {
          "output_type": "stream",
          "name": "stdout",
          "text": [
            "Epoch 45: Train 0.3296 | Val 6.5752\n"
          ]
        },
        {
          "output_type": "stream",
          "name": "stderr",
          "text": [
            "100%|██████████| 250/250 [00:05<00:00, 45.24it/s]\n"
          ]
        },
        {
          "output_type": "stream",
          "name": "stdout",
          "text": [
            "Epoch 46: Train 0.3263 | Val 6.6026\n"
          ]
        },
        {
          "output_type": "stream",
          "name": "stderr",
          "text": [
            "100%|██████████| 250/250 [00:04<00:00, 50.46it/s]\n"
          ]
        },
        {
          "output_type": "stream",
          "name": "stdout",
          "text": [
            "Epoch 47: Train 0.3203 | Val 6.6416\n"
          ]
        },
        {
          "output_type": "stream",
          "name": "stderr",
          "text": [
            "100%|██████████| 250/250 [00:05<00:00, 44.75it/s]\n"
          ]
        },
        {
          "output_type": "stream",
          "name": "stdout",
          "text": [
            "Epoch 48: Train 0.3188 | Val 6.6766\n"
          ]
        },
        {
          "output_type": "stream",
          "name": "stderr",
          "text": [
            "100%|██████████| 250/250 [00:04<00:00, 50.35it/s]\n"
          ]
        },
        {
          "output_type": "stream",
          "name": "stdout",
          "text": [
            "Epoch 49: Train 0.3148 | Val 6.6287\n"
          ]
        },
        {
          "output_type": "stream",
          "name": "stderr",
          "text": [
            "100%|██████████| 250/250 [00:05<00:00, 46.21it/s]\n"
          ]
        },
        {
          "output_type": "stream",
          "name": "stdout",
          "text": [
            "Epoch 50: Train 0.3090 | Val 6.7405\n"
          ]
        }
      ]
    },
    {
      "cell_type": "code",
      "source": [
        "# Cell 11 — decoding\n",
        "def encode_input(text, src_vocab, max_len=64):\n",
        "    toks = simple_tokenize(normalize_urdu(text))[:max_len-2]\n",
        "    ids = [src_vocab.token2idx[SOS]] + src_vocab.encode(toks) + [src_vocab.token2idx[EOS]]\n",
        "    return torch.tensor(ids, dtype=torch.long, device=DEVICE)\n",
        "\n",
        "def greedy_decode(model, src_seq, tgt_vocab, max_len=40):\n",
        "    model.eval()\n",
        "    src = src_seq.unsqueeze(0)\n",
        "    memory, _ = model.encoder(src, model.make_src_mask(src))\n",
        "    ys = torch.tensor([[tgt_vocab.token2idx[SOS]]], device=DEVICE)\n",
        "    for _ in range(max_len):\n",
        "        tgt_mask = model.make_tgt_mask(ys)\n",
        "        dec_out, _ = model.decoder(ys, memory, tgt_mask, model.make_src_mask(src))\n",
        "        next_word = dec_out[:, -1].argmax(dim=1).item()\n",
        "        ys = torch.cat([ys, torch.tensor([[next_word]], device=DEVICE)], dim=1)\n",
        "        if next_word == tgt_vocab.token2idx[EOS]:\n",
        "            break\n",
        "    return ys.squeeze(0).cpu().tolist()\n",
        "\n",
        "def beam_decode(model, src_seq, tgt_vocab, beam_width=3, max_len=40):\n",
        "    model.eval()\n",
        "    src = src_seq.unsqueeze(0)\n",
        "    memory, _ = model.encoder(src, model.make_src_mask(src))\n",
        "    beams = [(0, torch.tensor([[tgt_vocab.token2idx[SOS]]], device=DEVICE))]\n",
        "    for _ in range(max_len):\n",
        "        new_beams = []\n",
        "        for score, seq in beams:\n",
        "            if seq[0, -1].item() == tgt_vocab.token2idx[EOS]:\n",
        "                new_beams.append((score, seq)); continue\n",
        "            tgt_mask = model.make_tgt_mask(seq)\n",
        "            dec_out, _ = model.decoder(seq, memory, tgt_mask, model.make_src_mask(src))\n",
        "            log_probs = F.log_softmax(model.out(dec_out[:, -1]), dim=-1)\n",
        "            vals, idxs = torch.topk(log_probs, beam_width)\n",
        "            for k in range(beam_width):\n",
        "                new_seq = torch.cat([seq, torch.tensor([[idxs[0, k].item()]], device=DEVICE)], dim=1)\n",
        "                new_beams.append((score + vals[0, k].item(), new_seq))\n",
        "        beams = sorted(new_beams, key=lambda x: x[0], reverse=True)[:beam_width]\n",
        "    return beams[0][1].squeeze(0).cpu().tolist()\n"
      ],
      "metadata": {
        "id": "2OMTKoL9YbZK"
      },
      "execution_count": 93,
      "outputs": []
    },
    {
      "cell_type": "code",
      "source": [
        "# Cell 12 — evaluation metrics\n",
        "from rouge_score import rouge_scorer\n",
        "\n",
        "def evaluate_all(model, loader, tgt_vocab, max_examples=200):\n",
        "    hyps, refs = [], []\n",
        "    total_loss = 0\n",
        "    with torch.no_grad():\n",
        "        for i, (src, tgt) in enumerate(loader):\n",
        "            out = model(src, tgt[:, :-1])\n",
        "            loss = criterion(out.view(-1, out.size(-1)), tgt[:, 1:].contiguous().view(-1))\n",
        "            total_loss += loss.item()\n",
        "            for j in range(src.size(0)):\n",
        "                src_seq = src[j][: (src[j] != 0).sum()]\n",
        "                tgt_seq = tgt[j][: (tgt[j] != 0).sum()]\n",
        "                pred_ids = greedy_decode(model, src_seq, tgt_vocab)\n",
        "                pred_sent = \" \".join(tgt_vocab.decode(pred_ids))\n",
        "                true_sent = \" \".join(tgt_vocab.decode(tgt_seq.cpu().tolist()))\n",
        "                hyps.append(pred_sent)\n",
        "                refs.append([true_sent])\n",
        "                if len(hyps) >= max_examples:\n",
        "                    break\n",
        "            if len(hyps) >= max_examples:\n",
        "                break\n",
        "    bleu = sacrebleu.corpus_bleu(hyps, list(map(list, zip(*refs)))).score\n",
        "    chrf = sacrebleu.corpus_chrf(hyps, list(map(list, zip(*refs)))).score\n",
        "    rouge = np.mean([rouge_scorer.RougeScorer(['rougeL'], use_stemmer=True)\n",
        "                     .score(refs[i][0], hyps[i])['rougeL'].fmeasure for i in range(len(hyps))])\n",
        "    ppl = math.exp(total_loss / len(loader))\n",
        "    print(f\"BLEU: {bleu:.2f} | chrF: {chrf:.2f} | ROUGE-L: {rouge:.3f} | Perplexity: {ppl:.2f}\")\n",
        "\n",
        "evaluate_all(model, val_loader, tgt_vocab, max_examples=200)\n"
      ],
      "metadata": {
        "colab": {
          "base_uri": "https://localhost:8080/"
        },
        "id": "vQP-A1cNYdvJ",
        "outputId": "f7934c60-5509-4175-fffd-5e49f302f489"
      },
      "execution_count": 94,
      "outputs": [
        {
          "output_type": "stream",
          "name": "stdout",
          "text": [
            "BLEU: 0.11 | chrF: 8.01 | ROUGE-L: 0.026 | Perplexity: 4.11\n"
          ]
        }
      ]
    },
    {
      "cell_type": "code",
      "source": [
        "# Cell 13 — visualize attention\n",
        "import matplotlib.pyplot as plt\n",
        "import seaborn as sns\n",
        "\n",
        "def visualize_attention(model, src_text, tgt_vocab):\n",
        "    src_seq = encode_input(src_text, src_vocab)\n",
        "    src = src_seq.unsqueeze(0)\n",
        "    src_mask = model.make_src_mask(src)\n",
        "    with torch.no_grad():\n",
        "        memory, _ = model.encoder(src, src_mask)\n",
        "        ys = torch.tensor([[tgt_vocab.token2idx[SOS]]], device=DEVICE)\n",
        "        _, attn_maps = model.decoder(ys, memory, model.make_tgt_mask(ys), src_mask)\n",
        "    attn = attn_maps[-1][0].mean(0).cpu().numpy()  # average heads\n",
        "    src_tokens = simple_tokenize(normalize_urdu(src_text))\n",
        "    tgt_tokens = [SOS]  # first token\n",
        "    plt.figure(figsize=(8,6))\n",
        "    sns.heatmap(attn[:len(tgt_tokens), :len(src_tokens)], xticklabels=src_tokens,\n",
        "                yticklabels=tgt_tokens, cmap=\"YlGnBu\")\n",
        "    plt.xlabel(\"Source Tokens\"); plt.ylabel(\"Target Tokens\")\n",
        "    plt.title(\"Attention Heatmap (first step)\")\n",
        "    plt.show()\n",
        "\n",
        "visualize_attention(model, \"آپ کیسے ہیں؟\", tgt_vocab)\n"
      ],
      "metadata": {
        "colab": {
          "base_uri": "https://localhost:8080/",
          "height": 793
        },
        "id": "AdpSCvQvYfDl",
        "outputId": "ba00c6db-9ec5-4910-8989-bc741500d1e3"
      },
      "execution_count": 95,
      "outputs": [
        {
          "output_type": "stream",
          "name": "stderr",
          "text": [
            "/usr/local/lib/python3.12/dist-packages/seaborn/utils.py:61: UserWarning: Glyph 1746 (\\N{ARABIC LETTER YEH BARREE}) missing from font(s) DejaVu Sans.\n",
            "  fig.canvas.draw()\n",
            "/usr/local/lib/python3.12/dist-packages/seaborn/utils.py:61: UserWarning: Matplotlib currently does not support Arabic natively.\n",
            "  fig.canvas.draw()\n",
            "/usr/local/lib/python3.12/dist-packages/seaborn/utils.py:61: UserWarning: Glyph 1729 (\\N{ARABIC LETTER HEH GOAL}) missing from font(s) DejaVu Sans.\n",
            "  fig.canvas.draw()\n",
            "/usr/local/lib/python3.12/dist-packages/IPython/core/pylabtools.py:151: UserWarning: Glyph 1746 (\\N{ARABIC LETTER YEH BARREE}) missing from font(s) DejaVu Sans.\n",
            "  fig.canvas.print_figure(bytes_io, **kw)\n",
            "/usr/local/lib/python3.12/dist-packages/IPython/core/pylabtools.py:151: UserWarning: Matplotlib currently does not support Arabic natively.\n",
            "  fig.canvas.print_figure(bytes_io, **kw)\n",
            "/usr/local/lib/python3.12/dist-packages/IPython/core/pylabtools.py:151: UserWarning: Glyph 1729 (\\N{ARABIC LETTER HEH GOAL}) missing from font(s) DejaVu Sans.\n",
            "  fig.canvas.print_figure(bytes_io, **kw)\n"
          ]
        },
        {
          "output_type": "display_data",
          "data": {
            "text/plain": [
              "<Figure size 800x600 with 2 Axes>"
            ],
            "image/png": "[encoded data removed]"
          },
          "metadata": {}
        }
      ]
    },
    {
      "cell_type": "code",
      "source": [
        "# Cell 14 — save final model & vocabs\n",
        "def save_vocab(vocab, path):\n",
        "    with open(path, \"w\", encoding=\"utf-8\") as f:\n",
        "        json.dump({\"token2idx\": vocab.token2idx, \"idx2token\": vocab.idx2token}, f, ensure_ascii=False)\n",
        "\n",
        "save_vocab(src_vocab, os.path.join(MODEL_DIR, \"src_vocab.json\"))\n",
        "save_vocab(tgt_vocab, os.path.join(MODEL_DIR, \"tgt_vocab.json\"))\n",
        "save_checkpoint(model, optimizer, os.path.join(MODEL_DIR, \"final_checkpoint.pt\"))\n",
        "print(\"✅ Model & vocabs saved in\", MODEL_DIR)\n"
      ],
      "metadata": {
        "colab": {
          "base_uri": "https://localhost:8080/"
        },
        "id": "PHsoJN-KYgFo",
        "outputId": "2fcd9fb3-78ff-40bc-f601-8f29bd5f27e3"
      },
      "execution_count": 96,
      "outputs": [
        {
          "output_type": "stream",
          "name": "stdout",
          "text": [
            "✅ Model & vocabs saved in models\n"
          ]
        }
      ]
    },
    {
      "cell_type": "code",
      "source": [
        "!pip install streamlit pyngrok --quiet\n",
        "from pyngrok import ngrok\n",
        "from google.colab import userdata\n",
        "\n",
        "# Get ngrok authtoken from Colab secrets\n",
        "NGROK_AUTH_TOKEN = userdata.get('NGROK_AUTH_TOKEN')\n",
        "if NGROK_AUTH_TOKEN is None:\n",
        "    print(\"NGROK_AUTH_TOKEN not found in Colab secrets. Please add it.\")\n",
        "else:\n",
        "    # Connect your authtoken\n",
        "    ngrok.set_auth_token(NGROK_AUTH_TOKEN)\n",
        "\n",
        "      # Get public link\n",
        "    public_url = ngrok.connect(8501)\n",
        "    print(\"🔗 Open your chatbot here:\", public_url)\n",
        "\n",
        "    # Run Streamlit in background\n",
        "    !streamlit run streamlit_urdu_chatbot.py --server.port 8501 &\n",
        "\n",
        ""
      ],
      "metadata": {
        "colab": {
          "base_uri": "https://localhost:8080/"
        },
        "id": "Xxw-9WA1dq72",
        "outputId": "a1a8df42-2665-4f2f-f6eb-c83bfc84793d"
      },
      "execution_count": null,
      "outputs": [
        {
          "metadata": {
            "tags": null
          },
          "name": "stdout",
          "output_type": "stream",
          "text": [
            "🔗 Open your chatbot here: NgrokTunnel: \"https://jadon-overgreedy-overthinly.ngrok-free.dev\" -> \"http://localhost:8501\"\n",
            "\n",
            "Collecting usage statistics. To deactivate, set browser.gatherUsageStats to false.\n",
            "\u001b[0m\n",
            "\u001b[0m\n",
            "\u001b[34m\u001b[1m  You can now view your Streamlit app in your browser.\u001b[0m\n",
            "\u001b[0m\n",
            "\u001b[34m  Local URL: \u001b[0m\u001b[1mhttp://localhost:8501\u001b[0m\n",
            "\u001b[34m  Network URL: \u001b[0m\u001b[1mhttp://172.28.0.12:8501\u001b[0m\n",
            "\u001b[34m  External URL: \u001b[0m\u001b[1mhttp://35.247.188.148:8501\u001b[0m\n",
            "\u001b[0m\n"
          ]
        }
      ]
    },
    {
      "cell_type": "code",
      "source": [],
      "metadata": {
        "id": "qjntytFSdrbT"
      },
      "execution_count": 97,
      "outputs": []
    }
  ]
}